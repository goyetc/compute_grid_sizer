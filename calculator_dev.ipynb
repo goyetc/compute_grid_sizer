{
 "cells": [
  {
   "cell_type": "markdown",
   "metadata": {},
   "source": [
    "### pseudocode for calculator\n",
    "* define raw resources / node type \n",
    "* usable = raw-overhead\n",
    "* define desired hardware tier\n",
    "* total resources per execution = (hardware tier def + execution overhead) \n",
    "* max executions = int(min(usable cpu/total cpu per execution, usable mem/total mem per execution))\n",
    "* define overhead for cpu, memory\n",
    "* produce overhead metrics\n",
    "* define idle cpu, memory\n",
    "* produce utilization metrics"
   ]
  },
  {
   "cell_type": "code",
   "execution_count": 15,
   "metadata": {},
   "outputs": [],
   "source": [
    "import pandas as pd"
   ]
  },
  {
   "cell_type": "code",
   "execution_count": 16,
   "metadata": {},
   "outputs": [],
   "source": [
    "import sys\n",
    "import os"
   ]
  },
  {
   "cell_type": "code",
   "execution_count": 17,
   "metadata": {},
   "outputs": [],
   "source": [
    "df = pd.read_csv('ec2_ref.csv')"
   ]
  },
  {
   "cell_type": "code",
   "execution_count": 18,
   "metadata": {},
   "outputs": [
    {
     "data": {
      "text/html": [
       "<div>\n",
       "<style scoped>\n",
       "    .dataframe tbody tr th:only-of-type {\n",
       "        vertical-align: middle;\n",
       "    }\n",
       "\n",
       "    .dataframe tbody tr th {\n",
       "        vertical-align: top;\n",
       "    }\n",
       "\n",
       "    .dataframe thead th {\n",
       "        text-align: right;\n",
       "    }\n",
       "</style>\n",
       "<table border=\"1\" class=\"dataframe\">\n",
       "  <thead>\n",
       "    <tr style=\"text-align: right;\">\n",
       "      <th></th>\n",
       "      <th>Instance</th>\n",
       "      <th>vCPU*</th>\n",
       "      <th>Mem (GiB)</th>\n",
       "      <th>Storage</th>\n",
       "      <th>Dedicated EBS Bandwidth (Mbps)</th>\n",
       "      <th>Network Performance</th>\n",
       "    </tr>\n",
       "  </thead>\n",
       "  <tbody>\n",
       "    <tr>\n",
       "      <th>0</th>\n",
       "      <td>m5.xlarge</td>\n",
       "      <td>4</td>\n",
       "      <td>16.0</td>\n",
       "      <td>EBS-Only</td>\n",
       "      <td>Up to 10</td>\n",
       "      <td>Up to 4,750</td>\n",
       "    </tr>\n",
       "    <tr>\n",
       "      <th>1</th>\n",
       "      <td>m5.2xlarge</td>\n",
       "      <td>8</td>\n",
       "      <td>32.0</td>\n",
       "      <td>EBS-Only</td>\n",
       "      <td>Up to 10</td>\n",
       "      <td>Up to 4,750</td>\n",
       "    </tr>\n",
       "    <tr>\n",
       "      <th>2</th>\n",
       "      <td>m5.4xlarge</td>\n",
       "      <td>16</td>\n",
       "      <td>64.0</td>\n",
       "      <td>EBS-Only</td>\n",
       "      <td>Up to 10</td>\n",
       "      <td>4,750</td>\n",
       "    </tr>\n",
       "    <tr>\n",
       "      <th>3</th>\n",
       "      <td>m5.8xlarge</td>\n",
       "      <td>32</td>\n",
       "      <td>128.0</td>\n",
       "      <td>EBS Only</td>\n",
       "      <td>10</td>\n",
       "      <td>6,800</td>\n",
       "    </tr>\n",
       "    <tr>\n",
       "      <th>4</th>\n",
       "      <td>m5.12xlarge</td>\n",
       "      <td>48</td>\n",
       "      <td>192.0</td>\n",
       "      <td>EBS-Only</td>\n",
       "      <td>10</td>\n",
       "      <td>9,500</td>\n",
       "    </tr>\n",
       "  </tbody>\n",
       "</table>\n",
       "</div>"
      ],
      "text/plain": [
       "      Instance  vCPU*  Mem (GiB)   Storage Dedicated EBS Bandwidth (Mbps)  \\\n",
       "0    m5.xlarge      4       16.0  EBS-Only                       Up to 10   \n",
       "1   m5.2xlarge      8       32.0  EBS-Only                       Up to 10   \n",
       "2   m5.4xlarge     16       64.0  EBS-Only                       Up to 10   \n",
       "3   m5.8xlarge     32      128.0  EBS Only                             10   \n",
       "4  m5.12xlarge     48      192.0  EBS-Only                             10   \n",
       "\n",
       "  Network Performance  \n",
       "0         Up to 4,750  \n",
       "1         Up to 4,750  \n",
       "2               4,750  \n",
       "3               6,800  \n",
       "4               9,500  "
      ]
     },
     "execution_count": 18,
     "metadata": {},
     "output_type": "execute_result"
    }
   ],
   "source": [
    "df.head()"
   ]
  },
  {
   "cell_type": "code",
   "execution_count": 19,
   "metadata": {},
   "outputs": [
    {
     "data": {
      "text/html": [
       "<div>\n",
       "<style scoped>\n",
       "    .dataframe tbody tr th:only-of-type {\n",
       "        vertical-align: middle;\n",
       "    }\n",
       "\n",
       "    .dataframe tbody tr th {\n",
       "        vertical-align: top;\n",
       "    }\n",
       "\n",
       "    .dataframe thead th {\n",
       "        text-align: right;\n",
       "    }\n",
       "</style>\n",
       "<table border=\"1\" class=\"dataframe\">\n",
       "  <thead>\n",
       "    <tr style=\"text-align: right;\">\n",
       "      <th></th>\n",
       "      <th>Instance</th>\n",
       "      <th>vCPU*</th>\n",
       "      <th>Mem (GiB)</th>\n",
       "    </tr>\n",
       "  </thead>\n",
       "  <tbody>\n",
       "    <tr>\n",
       "      <th>0</th>\n",
       "      <td>m5.xlarge</td>\n",
       "      <td>4</td>\n",
       "      <td>16.0</td>\n",
       "    </tr>\n",
       "    <tr>\n",
       "      <th>1</th>\n",
       "      <td>m5.2xlarge</td>\n",
       "      <td>8</td>\n",
       "      <td>32.0</td>\n",
       "    </tr>\n",
       "    <tr>\n",
       "      <th>2</th>\n",
       "      <td>m5.4xlarge</td>\n",
       "      <td>16</td>\n",
       "      <td>64.0</td>\n",
       "    </tr>\n",
       "    <tr>\n",
       "      <th>3</th>\n",
       "      <td>m5.8xlarge</td>\n",
       "      <td>32</td>\n",
       "      <td>128.0</td>\n",
       "    </tr>\n",
       "    <tr>\n",
       "      <th>4</th>\n",
       "      <td>m5.12xlarge</td>\n",
       "      <td>48</td>\n",
       "      <td>192.0</td>\n",
       "    </tr>\n",
       "  </tbody>\n",
       "</table>\n",
       "</div>"
      ],
      "text/plain": [
       "      Instance  vCPU*  Mem (GiB)\n",
       "0    m5.xlarge      4       16.0\n",
       "1   m5.2xlarge      8       32.0\n",
       "2   m5.4xlarge     16       64.0\n",
       "3   m5.8xlarge     32      128.0\n",
       "4  m5.12xlarge     48      192.0"
      ]
     },
     "execution_count": 19,
     "metadata": {},
     "output_type": "execute_result"
    }
   ],
   "source": [
    "hw_tier_catalogue = df[['Instance','vCPU*','Mem (GiB)']]\n",
    "hw_tier_catalogue.head()"
   ]
  },
  {
   "cell_type": "code",
   "execution_count": 20,
   "metadata": {},
   "outputs": [
    {
     "data": {
      "text/plain": [
       "20"
      ]
     },
     "execution_count": 20,
     "metadata": {},
     "output_type": "execute_result"
    }
   ],
   "source": [
    "len(hw_tier_catalogue)"
   ]
  },
  {
   "cell_type": "code",
   "execution_count": 21,
   "metadata": {},
   "outputs": [
    {
     "name": "stdout",
     "output_type": "stream",
     "text": [
      "['m5.xlarge', 4, 16.0]\n",
      "usable cpu: 4 4\n",
      "usable mem: 16.0 16.0\n"
     ]
    }
   ],
   "source": [
    "for i in range(1):\n",
    "    print(hw_tier_catalogue.iloc[i,:].tolist())\n",
    "    cpu = hw_tier_catalogue.iloc[i,1]\n",
    "    mem = hw_tier_catalogue.iloc[i,2]\n",
    "    print('usable cpu: '+str(cpu), cpu)\n",
    "    print('usable mem: '+str(mem), mem)"
   ]
  },
  {
   "cell_type": "code",
   "execution_count": 22,
   "metadata": {},
   "outputs": [
    {
     "data": {
      "text/plain": [
       "4"
      ]
     },
     "execution_count": 22,
     "metadata": {},
     "output_type": "execute_result"
    }
   ],
   "source": [
    "hw_tier_catalogue['vCPU*'][0]"
   ]
  },
  {
   "cell_type": "code",
   "execution_count": 23,
   "metadata": {},
   "outputs": [
    {
     "data": {
      "text/plain": [
       "'m5.xlarge'"
      ]
     },
     "execution_count": 23,
     "metadata": {},
     "output_type": "execute_result"
    }
   ],
   "source": [
    "hw_tier_catalogue.iloc[0][0]"
   ]
  },
  {
   "cell_type": "raw",
   "metadata": {},
   "source": [
    "define raw resources / node type\n",
    "usable = raw-overhead\n",
    "define desired hardware tier\n",
    "total resources per execution = (hardware tier def + execution overhead)\n",
    "max executions = int(min(usable cpu/total cpu per execution, usable mem/total mem per execution))\n",
    "define overhead for cpu, memory\n",
    "produce overhead metrics\n",
    "define idle cpu, memory\n",
    "produce utilization metrics"
   ]
  },
  {
   "cell_type": "code",
   "execution_count": 24,
   "metadata": {},
   "outputs": [],
   "source": [
    "global node_overhead_cpu\n",
    "global node_overhead_mem\n",
    "global exec_overhead_cpu\n",
    "global exec_overhead_mem\n",
    "\n",
    "node_overhead_cpu = 1.5 #cores\n",
    "node_overhead_mem = 2  #GiB\n",
    "\n",
    "exec_overhead_cpu = 1 #cores\n",
    "exec_overhead_mem = 1 #GiB"
   ]
  },
  {
   "cell_type": "raw",
   "metadata": {},
   "source": [
    "6% of the first core\n",
    "1% of the next core (up to 2 cores)\n",
    "0.5% of the next 2 cores (up to 4 cores)\n",
    "0.25% of any cores above 4 cores"
   ]
  },
  {
   "cell_type": "code",
   "execution_count": 28,
   "metadata": {},
   "outputs": [],
   "source": [
    "def reserved_cpu(cpu):\n",
    "    if cpu <=1.0:\n",
    "        #6% of the first core\n",
    "        reserved = .06*cpu\n",
    "    elif (cpu >1.0 and cpu<=2.0):\n",
    "        #1% of the next core (up to 2 cores)\n",
    "        reserved = .06*1.0 + .01*(cpu-1.0)\n",
    "    elif (cpu >2.0 and cpu <=4.0):\n",
    "        #0.5% of the next 2 cores (up to 4 cores)\n",
    "        reserved = .06*1.0 + .01*(1.0) + .005*(cpu-2.0)\n",
    "    else: \n",
    "        reserved = .06*(1.0) + .01*(1.0) + .005*(2.0) + .0025*(cpu-4)\n",
    "    \n",
    "    node_overhead_cpu = reserved\n",
    "    return node_overhead_cpu"
   ]
  },
  {
   "cell_type": "code",
   "execution_count": 29,
   "metadata": {},
   "outputs": [
    {
     "data": {
      "text/plain": [
       "0.06"
      ]
     },
     "execution_count": 29,
     "metadata": {},
     "output_type": "execute_result"
    }
   ],
   "source": [
    "reserved_cpu(1.0)"
   ]
  },
  {
   "cell_type": "code",
   "execution_count": 30,
   "metadata": {},
   "outputs": [
    {
     "data": {
      "text/plain": [
       "0.06999999999999999"
      ]
     },
     "execution_count": 30,
     "metadata": {},
     "output_type": "execute_result"
    }
   ],
   "source": [
    "reserved_cpu(2.0)"
   ]
  },
  {
   "cell_type": "code",
   "execution_count": 31,
   "metadata": {},
   "outputs": [
    {
     "data": {
      "text/plain": [
       "0.07999999999999999"
      ]
     },
     "execution_count": 31,
     "metadata": {},
     "output_type": "execute_result"
    }
   ],
   "source": [
    "reserved_cpu(4.0)"
   ]
  },
  {
   "cell_type": "code",
   "execution_count": 32,
   "metadata": {},
   "outputs": [
    {
     "data": {
      "text/plain": [
       "0.08249999999999999"
      ]
     },
     "execution_count": 32,
     "metadata": {},
     "output_type": "execute_result"
    }
   ],
   "source": [
    "reserved_cpu(5.0)"
   ]
  },
  {
   "cell_type": "code",
   "execution_count": 33,
   "metadata": {},
   "outputs": [
    {
     "data": {
      "text/plain": [
       "0.08999999999999998"
      ]
     },
     "execution_count": 33,
     "metadata": {},
     "output_type": "execute_result"
    }
   ],
   "source": [
    "reserved_cpu(8.0)"
   ]
  },
  {
   "cell_type": "raw",
   "metadata": {},
   "source": [
    "For memory resources, GKE reserves the following:\n",
    "\n",
    "255 MiB of memory for machines with less than 1 GB of memory\n",
    "25% of the first 4GB of memory\n",
    "20% of the next 4GB of memory (up to 8GB)\n",
    "10% of the next 8GB of memory (up to 16GB)\n",
    "6% of the next 112GB of memory (up to 128GB)\n",
    "2% of any memory above 128GB\n",
    "Note: Prior to 1.12.0, machines with less than 1GB of memory are exempt from memory reservations.\n",
    "GKE reserves an additional 100 MiB of memory on each node for kubelet eviction."
   ]
  },
  {
   "cell_type": "code",
   "execution_count": 46,
   "metadata": {},
   "outputs": [],
   "source": [
    "def reserved_mem(mem):\n",
    "    \n",
    "    kubelet_eviction_reserve = .100\n",
    "    \n",
    "    if mem <=1.0:\n",
    "        #255 MiB of memory for machines with less than 1 GB of memory\n",
    "        reserved = 0.255\n",
    "    elif (mem >1.0 and mem<=4.0):\n",
    "        #25% of the first 4GB of memory\n",
    "        reserved = .25*mem\n",
    "    elif (mem >4.0 and mem <=8.0):\n",
    "        #20% of the next 4GB of memory (up to 8GB)\n",
    "        reserved = .25*(4.0) + .20*(mem-4.0)\n",
    "    elif (mem >8.0 and mem <=16.0):\n",
    "        #10% of the next 8GB of memory (up to 16GB)\n",
    "        reserved = .25*(4.0) + .20*(4.0) + .10*(mem-8.0)\n",
    "    elif (mem >16.0 and mem <=128.0):\n",
    "        #6% of the next 112GB of memory (up to 128GB)\n",
    "        reserved = .25*(4.0) + .20*(4.0) + .10*(8.0) + .06*(mem-16.0)\n",
    "    else: \n",
    "        #2% of any memory above 128GB\n",
    "        reserved = .25*(4.0) + .20*(4.0) + .10*(8.0) + .06*(112.0) + .02*(mem-128.0)\n",
    "    \n",
    "    node_overhead_mem = reserved + kubelet_eviction_reserve\n",
    "    return node_overhead_mem"
   ]
  },
  {
   "cell_type": "code",
   "execution_count": 47,
   "metadata": {},
   "outputs": [
    {
     "data": {
      "text/plain": [
       "0.355"
      ]
     },
     "execution_count": 47,
     "metadata": {},
     "output_type": "execute_result"
    }
   ],
   "source": [
    "reserved_mem(1.0)"
   ]
  },
  {
   "cell_type": "code",
   "execution_count": 48,
   "metadata": {},
   "outputs": [
    {
     "data": {
      "text/plain": [
       "1.1"
      ]
     },
     "execution_count": 48,
     "metadata": {},
     "output_type": "execute_result"
    }
   ],
   "source": [
    "reserved_mem(4.0)"
   ]
  },
  {
   "cell_type": "code",
   "execution_count": 49,
   "metadata": {},
   "outputs": [
    {
     "data": {
      "text/plain": [
       "1.9000000000000001"
      ]
     },
     "execution_count": 49,
     "metadata": {},
     "output_type": "execute_result"
    }
   ],
   "source": [
    "reserved_mem(8.0)"
   ]
  },
  {
   "cell_type": "code",
   "execution_count": 50,
   "metadata": {},
   "outputs": [
    {
     "data": {
      "text/plain": [
       "2.7"
      ]
     },
     "execution_count": 50,
     "metadata": {},
     "output_type": "execute_result"
    }
   ],
   "source": [
    "reserved_mem(16.0)"
   ]
  },
  {
   "cell_type": "code",
   "execution_count": 51,
   "metadata": {},
   "outputs": [
    {
     "data": {
      "text/plain": [
       "9.42"
      ]
     },
     "execution_count": 51,
     "metadata": {},
     "output_type": "execute_result"
    }
   ],
   "source": [
    "reserved_mem(128.0)"
   ]
  },
  {
   "cell_type": "code",
   "execution_count": 53,
   "metadata": {},
   "outputs": [
    {
     "data": {
      "text/plain": [
       "11.98"
      ]
     },
     "execution_count": 53,
     "metadata": {},
     "output_type": "execute_result"
    }
   ],
   "source": [
    "reserved_mem(256.0)"
   ]
  },
  {
   "cell_type": "code",
   "execution_count": 55,
   "metadata": {},
   "outputs": [
    {
     "data": {
      "text/plain": [
       "11.98"
      ]
     },
     "execution_count": 55,
     "metadata": {},
     "output_type": "execute_result"
    }
   ],
   "source": [
    ".25*4.0 + .20*4.0 + .10*8.0 + .06*112.0 + .02*128 + 0.1"
   ]
  },
  {
   "cell_type": "code",
   "execution_count": 186,
   "metadata": {},
   "outputs": [],
   "source": [
    "def max_exec(hw_cpu, hw_mem, exec_cpu, exec_mem):\n",
    "    \n",
    "    usable_cpu = hw_cpu - node_overhead_cpu\n",
    "    #print(usable_cpu)\n",
    "    usable_mem = hw_mem - node_overhead_mem\n",
    "    #print(usable_mem)\n",
    "    \n",
    "    run_cpu = exec_cpu + exec_overhead_cpu\n",
    "    #print(run_cpu)\n",
    "    run_mem = exec_mem + exec_overhead_mem\n",
    "    #print(run_mem)\n",
    "    \n",
    "    execs = 0\n",
    "    \n",
    "    while (usable_cpu >= run_cpu and usable_mem >= run_mem): \n",
    "        \n",
    "        execs += 1\n",
    "\n",
    "        usable_cpu -= run_cpu\n",
    "        usable_mem -= run_mem\n",
    "   \n",
    "    remaining_cpu = usable_cpu\n",
    "    remaining_mem = usable_mem\n",
    "    \n",
    "    o_cpu = node_overhead_cpu + (execs*exec_overhead_cpu)\n",
    "    o_mem = node_overhead_mem + (execs*exec_overhead_mem)\n",
    "    \n",
    "    print('execs: '+str(execs))\n",
    "    print('remaining_cpu: '+str(remaining_cpu))\n",
    "    print('remaining_mem: '+str(remaining_mem))\n",
    "    print('total_cpu_overhead: '+str(o_cpu))\n",
    "    print('total_mem_overhead: '+str(o_mem))\n",
    "    \n",
    "    return execs, remaining_cpu, remaining_mem, o_cpu, o_mem"
   ]
  },
  {
   "cell_type": "code",
   "execution_count": 203,
   "metadata": {},
   "outputs": [],
   "source": [
    "exec_cpu = 2\n",
    "exec_mem = 8"
   ]
  },
  {
   "cell_type": "code",
   "execution_count": 215,
   "metadata": {},
   "outputs": [
    {
     "name": "stdout",
     "output_type": "stream",
     "text": [
      "execs: 7\n",
      "remaining_cpu: 13.5\n",
      "remaining_mem: 7\n",
      "total_cpu_overhead: 8.5\n",
      "total_mem_overhead: 9\n"
     ]
    }
   ],
   "source": [
    "execs, remaining_cpu, remaining_mem, o_cpu, o_mem = max_exec(36, 72, exec_cpu, exec_mem)"
   ]
  },
  {
   "cell_type": "code",
   "execution_count": 216,
   "metadata": {},
   "outputs": [],
   "source": [
    "def overhead(execs, exec_cpu, exec_mem):\n",
    "\n",
    "    if execs !=0:\n",
    "        o_cpu = node_overhead_cpu + (execs*exec_overhead_cpu)\n",
    "        o_mem = node_overhead_mem + (execs*exec_overhead_mem)\n",
    "        \n",
    "        print('total_cpu_overhead: '+str(o_cpu))\n",
    "\n",
    "        tot_cpu = execs * exec_cpu\n",
    "        print('total execution cores: '+str(tot_cpu))\n",
    "\n",
    "        tot_mem = execs * exec_mem\n",
    "\n",
    "        #cpu overhead / total_exec_corese\n",
    "        ratio_cpu = o_cpu/tot_cpu\n",
    "        print('overhead ratio, cpu: '+str(ratio_cpu))\n",
    "        ratio_mem = o_mem/tot_mem\n",
    "        \n",
    "    else: #temp set to 100% overhead\n",
    "        ratio_cpu = 1\n",
    "        ratio_mem = 1\n",
    "    \n",
    "    return ratio_cpu, ratio_mem"
   ]
  },
  {
   "cell_type": "code",
   "execution_count": 217,
   "metadata": {},
   "outputs": [
    {
     "name": "stdout",
     "output_type": "stream",
     "text": [
      "total_cpu_overhead: 8.5\n",
      "total execution cores: 14\n",
      "overhead ratio, cpu: 0.6071428571428571\n"
     ]
    },
    {
     "data": {
      "text/plain": [
       "(0.6071428571428571, 0.16071428571428573)"
      ]
     },
     "execution_count": 217,
     "metadata": {},
     "output_type": "execute_result"
    }
   ],
   "source": [
    "overhead(7, 2, 8)"
   ]
  },
  {
   "cell_type": "code",
   "execution_count": null,
   "metadata": {},
   "outputs": [],
   "source": []
  },
  {
   "cell_type": "code",
   "execution_count": 228,
   "metadata": {},
   "outputs": [],
   "source": [
    "def utilization(hw_cpu, hw_mem, remaining_cpu, remaining_mem):\n",
    "    #utilization = (exec_resource_def - idle _resource) / exec_resource_def\n",
    "    util_cpu = (hw_cpu - remaining_cpu)/hw_cpu\n",
    "    util_mem = (hw_mem - remaining_mem)/hw_mem\n",
    "    \n",
    "    return util_cpu, util_mem"
   ]
  },
  {
   "cell_type": "code",
   "execution_count": 219,
   "metadata": {},
   "outputs": [
    {
     "data": {
      "text/plain": [
       "(0.625, 0.9027777777777778)"
      ]
     },
     "execution_count": 219,
     "metadata": {},
     "output_type": "execute_result"
    }
   ],
   "source": [
    "utilization(36,72)"
   ]
  },
  {
   "cell_type": "code",
   "execution_count": 256,
   "metadata": {},
   "outputs": [],
   "source": [
    "def node_sizing(requested_cpu, requested_mem, hw_tier_data):\n",
    "    \n",
    "    df_results = pd.DataFrame(columns=['node_size', 'max_executions', 'overhead_ratio_cpu', 'overhead_ratio_mem', \n",
    "                                   'util_ratio_cpu', 'util_ratio_mem', 'efficiency_metric'])\n",
    "    \n",
    "    for i in range(len(hw_tier_data)):\n",
    "        hw_cpu = hw_tier_data.iloc[i,1]\n",
    "        #print(hw_cpu)\n",
    "        hw_mem = hw_tier_data.iloc[i,2]\n",
    "        #print(hw_mem)\n",
    "        \n",
    "        usable_cpu = hw_cpu - node_overhead_cpu\n",
    "        usable_mem = hw_mem - node_overhead_mem\n",
    "        \n",
    "        if (usable_cpu > requested_cpu and usable_mem > requested_mem):\n",
    "                        \n",
    "            print('core count for eval: '+str(hw_cpu))\n",
    "            print('memory for eval (GB): '+str(hw_mem))\n",
    "            \n",
    "            execs, remaining_cpu, remaining_mem, o_cpu, o_mem = max_exec(hw_cpu, hw_mem, requested_cpu, requested_mem)\n",
    "        \n",
    "            overhead_cpu, overhead_mem = overhead(execs, requested_cpu, requested_mem)\n",
    "        \n",
    "            util_cpu, util_mem = utilization(hw_cpu, hw_mem, remaining_cpu, remaining_mem)\n",
    "        \n",
    "            eff_cpu = util_cpu/overhead_cpu\n",
    "            eff_mem = util_mem/overhead_mem\n",
    "        \n",
    "            efficiency_metric = eff_cpu + eff_mem\n",
    "        \n",
    "            df_result = pd.DataFrame({'node_size':hw_tier_data.iloc[i,0],\n",
    "                                      'max_executions':execs,\n",
    "                                      'overhead_ratio_cpu': overhead_cpu,\n",
    "                                      'overhead_ratio_mem': overhead_mem,\n",
    "                                      'util_ratio_cpu': util_cpu,\n",
    "                                      'util_ratio_mem': util_mem,\n",
    "                                      'efficiency_metric': efficiency_metric}, index = [0])\n",
    "        \n",
    "            #print(df_result.shape)\n",
    "        \n",
    "            df_results = df_results.append(df_result, ignore_index = True)\n",
    "            \n",
    "    #print(df_results.shape)\n",
    "        \n",
    "    return df_results"
   ]
  },
  {
   "cell_type": "code",
   "execution_count": 257,
   "metadata": {},
   "outputs": [],
   "source": [
    "requested_cpu = 2\n",
    "requested_mem = 8"
   ]
  },
  {
   "cell_type": "code",
   "execution_count": 258,
   "metadata": {},
   "outputs": [
    {
     "name": "stdout",
     "output_type": "stream",
     "text": [
      "core count for eval: 4\n",
      "memory for eval (GB): 16.0\n",
      "execs: 0\n",
      "remaining_cpu: 2.5\n",
      "remaining_mem: 14.0\n",
      "total_cpu_overhead: 1.5\n",
      "total_mem_overhead: 2\n",
      "core count for eval: 8\n",
      "memory for eval (GB): 32.0\n",
      "execs: 2\n",
      "remaining_cpu: 0.5\n",
      "remaining_mem: 12.0\n",
      "total_cpu_overhead: 3.5\n",
      "total_mem_overhead: 4\n",
      "total_cpu_overhead: 3.5\n",
      "total execution cores: 4\n",
      "overhead ratio, cpu: 0.875\n",
      "core count for eval: 16\n",
      "memory for eval (GB): 64.0\n",
      "execs: 4\n",
      "remaining_cpu: 2.5\n",
      "remaining_mem: 26.0\n",
      "total_cpu_overhead: 5.5\n",
      "total_mem_overhead: 6\n",
      "total_cpu_overhead: 5.5\n",
      "total execution cores: 8\n",
      "overhead ratio, cpu: 0.6875\n",
      "core count for eval: 32\n",
      "memory for eval (GB): 128.0\n",
      "execs: 10\n",
      "remaining_cpu: 0.5\n",
      "remaining_mem: 36.0\n",
      "total_cpu_overhead: 11.5\n",
      "total_mem_overhead: 12\n",
      "total_cpu_overhead: 11.5\n",
      "total execution cores: 20\n",
      "overhead ratio, cpu: 0.575\n",
      "core count for eval: 48\n",
      "memory for eval (GB): 192.0\n",
      "execs: 15\n",
      "remaining_cpu: 1.5\n",
      "remaining_mem: 55.0\n",
      "total_cpu_overhead: 16.5\n",
      "total_mem_overhead: 17\n",
      "total_cpu_overhead: 16.5\n",
      "total execution cores: 30\n",
      "overhead ratio, cpu: 0.55\n",
      "core count for eval: 64\n",
      "memory for eval (GB): 256.0\n",
      "execs: 20\n",
      "remaining_cpu: 2.5\n",
      "remaining_mem: 74.0\n",
      "total_cpu_overhead: 21.5\n",
      "total_mem_overhead: 22\n",
      "total_cpu_overhead: 21.5\n",
      "total execution cores: 40\n",
      "overhead ratio, cpu: 0.5375\n",
      "core count for eval: 96\n",
      "memory for eval (GB): 384.0\n",
      "execs: 31\n",
      "remaining_cpu: 1.5\n",
      "remaining_mem: 103.0\n",
      "total_cpu_overhead: 32.5\n",
      "total_mem_overhead: 33\n",
      "total_cpu_overhead: 32.5\n",
      "total execution cores: 62\n",
      "overhead ratio, cpu: 0.5241935483870968\n",
      "core count for eval: 8\n",
      "memory for eval (GB): 15.0\n",
      "execs: 1\n",
      "remaining_cpu: 3.5\n",
      "remaining_mem: 4.0\n",
      "total_cpu_overhead: 2.5\n",
      "total_mem_overhead: 3\n",
      "total_cpu_overhead: 2.5\n",
      "total execution cores: 2\n",
      "overhead ratio, cpu: 1.25\n",
      "core count for eval: 16\n",
      "memory for eval (GB): 30.0\n",
      "execs: 3\n",
      "remaining_cpu: 5.5\n",
      "remaining_mem: 1.0\n",
      "total_cpu_overhead: 4.5\n",
      "total_mem_overhead: 5\n",
      "total_cpu_overhead: 4.5\n",
      "total execution cores: 6\n",
      "overhead ratio, cpu: 0.75\n",
      "core count for eval: 36\n",
      "memory for eval (GB): 60.0\n",
      "execs: 6\n",
      "remaining_cpu: 16.5\n",
      "remaining_mem: 4.0\n",
      "total_cpu_overhead: 7.5\n",
      "total_mem_overhead: 8\n",
      "total_cpu_overhead: 7.5\n",
      "total execution cores: 12\n",
      "overhead ratio, cpu: 0.625\n",
      "core count for eval: 8\n",
      "memory for eval (GB): 16.0\n",
      "execs: 1\n",
      "remaining_cpu: 3.5\n",
      "remaining_mem: 5.0\n",
      "total_cpu_overhead: 2.5\n",
      "total_mem_overhead: 3\n",
      "total_cpu_overhead: 2.5\n",
      "total execution cores: 2\n",
      "overhead ratio, cpu: 1.25\n",
      "core count for eval: 16\n",
      "memory for eval (GB): 32.0\n",
      "execs: 3\n",
      "remaining_cpu: 5.5\n",
      "remaining_mem: 3.0\n",
      "total_cpu_overhead: 4.5\n",
      "total_mem_overhead: 5\n",
      "total_cpu_overhead: 4.5\n",
      "total execution cores: 6\n",
      "overhead ratio, cpu: 0.75\n",
      "core count for eval: 36\n",
      "memory for eval (GB): 72.0\n",
      "execs: 7\n",
      "remaining_cpu: 13.5\n",
      "remaining_mem: 7.0\n",
      "total_cpu_overhead: 8.5\n",
      "total_mem_overhead: 9\n",
      "total_cpu_overhead: 8.5\n",
      "total execution cores: 14\n",
      "overhead ratio, cpu: 0.6071428571428571\n",
      "core count for eval: 48\n",
      "memory for eval (GB): 96.0\n",
      "execs: 10\n",
      "remaining_cpu: 16.5\n",
      "remaining_mem: 4.0\n",
      "total_cpu_overhead: 11.5\n",
      "total_mem_overhead: 12\n",
      "total_cpu_overhead: 11.5\n",
      "total execution cores: 20\n",
      "overhead ratio, cpu: 0.575\n",
      "core count for eval: 72\n",
      "memory for eval (GB): 144.0\n",
      "execs: 15\n",
      "remaining_cpu: 25.5\n",
      "remaining_mem: 7.0\n",
      "total_cpu_overhead: 16.5\n",
      "total_mem_overhead: 17\n",
      "total_cpu_overhead: 16.5\n",
      "total execution cores: 30\n",
      "overhead ratio, cpu: 0.55\n",
      "core count for eval: 96\n",
      "memory for eval (GB): 192.0\n",
      "execs: 21\n",
      "remaining_cpu: 31.5\n",
      "remaining_mem: 1.0\n",
      "total_cpu_overhead: 22.5\n",
      "total_mem_overhead: 23\n",
      "total_cpu_overhead: 22.5\n",
      "total execution cores: 42\n",
      "overhead ratio, cpu: 0.5357142857142857\n"
     ]
    }
   ],
   "source": [
    "results = node_sizing(requested_cpu, requested_mem, df)"
   ]
  },
  {
   "cell_type": "code",
   "execution_count": 259,
   "metadata": {},
   "outputs": [],
   "source": [
    "results = results.sort_values(['max_executions', 'efficiency_metric'], ascending=[False, False]).reset_index(drop=True)"
   ]
  },
  {
   "cell_type": "code",
   "execution_count": 260,
   "metadata": {},
   "outputs": [
    {
     "data": {
      "text/html": [
       "<div>\n",
       "<style scoped>\n",
       "    .dataframe tbody tr th:only-of-type {\n",
       "        vertical-align: middle;\n",
       "    }\n",
       "\n",
       "    .dataframe tbody tr th {\n",
       "        vertical-align: top;\n",
       "    }\n",
       "\n",
       "    .dataframe thead th {\n",
       "        text-align: right;\n",
       "    }\n",
       "</style>\n",
       "<table border=\"1\" class=\"dataframe\">\n",
       "  <thead>\n",
       "    <tr style=\"text-align: right;\">\n",
       "      <th></th>\n",
       "      <th>node_size</th>\n",
       "      <th>max_executions</th>\n",
       "      <th>overhead_ratio_cpu</th>\n",
       "      <th>overhead_ratio_mem</th>\n",
       "      <th>util_ratio_cpu</th>\n",
       "      <th>util_ratio_mem</th>\n",
       "      <th>efficiency_metric</th>\n",
       "    </tr>\n",
       "  </thead>\n",
       "  <tbody>\n",
       "    <tr>\n",
       "      <th>0</th>\n",
       "      <td>m5.24xlarge</td>\n",
       "      <td>31</td>\n",
       "      <td>0.524194</td>\n",
       "      <td>0.133065</td>\n",
       "      <td>0.984375</td>\n",
       "      <td>0.731771</td>\n",
       "      <td>7.377253</td>\n",
       "    </tr>\n",
       "    <tr>\n",
       "      <th>1</th>\n",
       "      <td>c5.24xlarge</td>\n",
       "      <td>21</td>\n",
       "      <td>0.535714</td>\n",
       "      <td>0.136905</td>\n",
       "      <td>0.671875</td>\n",
       "      <td>0.994792</td>\n",
       "      <td>8.520471</td>\n",
       "    </tr>\n",
       "    <tr>\n",
       "      <th>2</th>\n",
       "      <td>m5.16xlarge</td>\n",
       "      <td>20</td>\n",
       "      <td>0.5375</td>\n",
       "      <td>0.1375</td>\n",
       "      <td>0.960938</td>\n",
       "      <td>0.710938</td>\n",
       "      <td>6.958245</td>\n",
       "    </tr>\n",
       "    <tr>\n",
       "      <th>3</th>\n",
       "      <td>c5.18xlarge</td>\n",
       "      <td>15</td>\n",
       "      <td>0.55</td>\n",
       "      <td>0.141667</td>\n",
       "      <td>0.645833</td>\n",
       "      <td>0.951389</td>\n",
       "      <td>7.889929</td>\n",
       "    </tr>\n",
       "    <tr>\n",
       "      <th>4</th>\n",
       "      <td>m5.12xlarge</td>\n",
       "      <td>15</td>\n",
       "      <td>0.55</td>\n",
       "      <td>0.141667</td>\n",
       "      <td>0.968750</td>\n",
       "      <td>0.713542</td>\n",
       "      <td>6.798128</td>\n",
       "    </tr>\n",
       "    <tr>\n",
       "      <th>5</th>\n",
       "      <td>c5.12xlarge</td>\n",
       "      <td>10</td>\n",
       "      <td>0.575</td>\n",
       "      <td>0.15</td>\n",
       "      <td>0.656250</td>\n",
       "      <td>0.958333</td>\n",
       "      <td>7.530193</td>\n",
       "    </tr>\n",
       "    <tr>\n",
       "      <th>6</th>\n",
       "      <td>m5.8xlarge</td>\n",
       "      <td>10</td>\n",
       "      <td>0.575</td>\n",
       "      <td>0.15</td>\n",
       "      <td>0.984375</td>\n",
       "      <td>0.718750</td>\n",
       "      <td>6.503623</td>\n",
       "    </tr>\n",
       "    <tr>\n",
       "      <th>7</th>\n",
       "      <td>c5.9xlarge</td>\n",
       "      <td>7</td>\n",
       "      <td>0.607143</td>\n",
       "      <td>0.160714</td>\n",
       "      <td>0.625000</td>\n",
       "      <td>0.902778</td>\n",
       "      <td>6.646696</td>\n",
       "    </tr>\n",
       "    <tr>\n",
       "      <th>8</th>\n",
       "      <td>c4.8xlarge</td>\n",
       "      <td>6</td>\n",
       "      <td>0.625</td>\n",
       "      <td>0.166667</td>\n",
       "      <td>0.541667</td>\n",
       "      <td>0.933333</td>\n",
       "      <td>6.466667</td>\n",
       "    </tr>\n",
       "    <tr>\n",
       "      <th>9</th>\n",
       "      <td>m5.4xlarge</td>\n",
       "      <td>4</td>\n",
       "      <td>0.6875</td>\n",
       "      <td>0.1875</td>\n",
       "      <td>0.843750</td>\n",
       "      <td>0.593750</td>\n",
       "      <td>4.393939</td>\n",
       "    </tr>\n",
       "    <tr>\n",
       "      <th>10</th>\n",
       "      <td>c4.4xlarge</td>\n",
       "      <td>3</td>\n",
       "      <td>0.75</td>\n",
       "      <td>0.208333</td>\n",
       "      <td>0.656250</td>\n",
       "      <td>0.966667</td>\n",
       "      <td>5.515000</td>\n",
       "    </tr>\n",
       "    <tr>\n",
       "      <th>11</th>\n",
       "      <td>c5.4xlarge</td>\n",
       "      <td>3</td>\n",
       "      <td>0.75</td>\n",
       "      <td>0.208333</td>\n",
       "      <td>0.656250</td>\n",
       "      <td>0.906250</td>\n",
       "      <td>5.225000</td>\n",
       "    </tr>\n",
       "    <tr>\n",
       "      <th>12</th>\n",
       "      <td>m5.2xlarge</td>\n",
       "      <td>2</td>\n",
       "      <td>0.875</td>\n",
       "      <td>0.25</td>\n",
       "      <td>0.937500</td>\n",
       "      <td>0.625000</td>\n",
       "      <td>3.571429</td>\n",
       "    </tr>\n",
       "    <tr>\n",
       "      <th>13</th>\n",
       "      <td>c4.2xlarge</td>\n",
       "      <td>1</td>\n",
       "      <td>1.25</td>\n",
       "      <td>0.375</td>\n",
       "      <td>0.562500</td>\n",
       "      <td>0.733333</td>\n",
       "      <td>2.405556</td>\n",
       "    </tr>\n",
       "    <tr>\n",
       "      <th>14</th>\n",
       "      <td>c5.2xlarge</td>\n",
       "      <td>1</td>\n",
       "      <td>1.25</td>\n",
       "      <td>0.375</td>\n",
       "      <td>0.562500</td>\n",
       "      <td>0.687500</td>\n",
       "      <td>2.283333</td>\n",
       "    </tr>\n",
       "    <tr>\n",
       "      <th>15</th>\n",
       "      <td>m5.xlarge</td>\n",
       "      <td>0</td>\n",
       "      <td>1</td>\n",
       "      <td>1</td>\n",
       "      <td>0.375000</td>\n",
       "      <td>0.125000</td>\n",
       "      <td>0.500000</td>\n",
       "    </tr>\n",
       "  </tbody>\n",
       "</table>\n",
       "</div>"
      ],
      "text/plain": [
       "      node_size max_executions overhead_ratio_cpu overhead_ratio_mem  \\\n",
       "0   m5.24xlarge             31           0.524194           0.133065   \n",
       "1   c5.24xlarge             21           0.535714           0.136905   \n",
       "2   m5.16xlarge             20             0.5375             0.1375   \n",
       "3   c5.18xlarge             15               0.55           0.141667   \n",
       "4   m5.12xlarge             15               0.55           0.141667   \n",
       "5   c5.12xlarge             10              0.575               0.15   \n",
       "6    m5.8xlarge             10              0.575               0.15   \n",
       "7    c5.9xlarge              7           0.607143           0.160714   \n",
       "8    c4.8xlarge              6              0.625           0.166667   \n",
       "9    m5.4xlarge              4             0.6875             0.1875   \n",
       "10   c4.4xlarge              3               0.75           0.208333   \n",
       "11   c5.4xlarge              3               0.75           0.208333   \n",
       "12   m5.2xlarge              2              0.875               0.25   \n",
       "13   c4.2xlarge              1               1.25              0.375   \n",
       "14   c5.2xlarge              1               1.25              0.375   \n",
       "15    m5.xlarge              0                  1                  1   \n",
       "\n",
       "    util_ratio_cpu  util_ratio_mem  efficiency_metric  \n",
       "0         0.984375        0.731771           7.377253  \n",
       "1         0.671875        0.994792           8.520471  \n",
       "2         0.960938        0.710938           6.958245  \n",
       "3         0.645833        0.951389           7.889929  \n",
       "4         0.968750        0.713542           6.798128  \n",
       "5         0.656250        0.958333           7.530193  \n",
       "6         0.984375        0.718750           6.503623  \n",
       "7         0.625000        0.902778           6.646696  \n",
       "8         0.541667        0.933333           6.466667  \n",
       "9         0.843750        0.593750           4.393939  \n",
       "10        0.656250        0.966667           5.515000  \n",
       "11        0.656250        0.906250           5.225000  \n",
       "12        0.937500        0.625000           3.571429  \n",
       "13        0.562500        0.733333           2.405556  \n",
       "14        0.562500        0.687500           2.283333  \n",
       "15        0.375000        0.125000           0.500000  "
      ]
     },
     "execution_count": 260,
     "metadata": {},
     "output_type": "execute_result"
    }
   ],
   "source": [
    "results"
   ]
  },
  {
   "cell_type": "code",
   "execution_count": 261,
   "metadata": {},
   "outputs": [],
   "source": [
    "results.to_html(os.environ['DOMINO_WORKING_DIR']+'/results/node_recommendations_{}_{}.html'.format(requested_cpu, requested_mem))"
   ]
  }
 ],
 "metadata": {
  "kernelspec": {
   "display_name": "Python 3",
   "language": "python",
   "name": "python3"
  },
  "language_info": {
   "codemirror_mode": {
    "name": "ipython",
    "version": 3
   },
   "file_extension": ".py",
   "mimetype": "text/x-python",
   "name": "python",
   "nbconvert_exporter": "python",
   "pygments_lexer": "ipython3",
   "version": "3.6.8"
  }
 },
 "nbformat": 4,
 "nbformat_minor": 2
}
